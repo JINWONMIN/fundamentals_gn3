{
 "cells": [
  {
   "cell_type": "markdown",
   "id": "e64c8c09",
   "metadata": {},
   "source": [
    "# Create a polyhedron dice widget"
   ]
  },
  {
   "cell_type": "markdown",
   "id": "c525b5a0",
   "metadata": {},
   "source": [
    "#### Function"
   ]
  },
  {
   "cell_type": "markdown",
   "id": "3e4d8d89",
   "metadata": {},
   "source": [
    "* 주사위의 면의 개수 n을 입력할 수 있다.\n",
    "* 주사위를 던지면 1~n눈의 수 중에서 랜덤으로 값을 출력한다."
   ]
  },
  {
   "cell_type": "code",
   "execution_count": 1,
   "id": "1c630862",
   "metadata": {},
   "outputs": [],
   "source": [
    "# main() 함수\n",
    "def main():\n",
    "    n = get_inputs()\n",
    "    madice = FunnyDice(n)\n",
    "    mydice.throw()\n",
    "    print(\"행운의 숫자는? {}\".format(mydice.getval()))"
   ]
  },
  {
   "cell_type": "code",
   "execution_count": 2,
   "id": "19819104",
   "metadata": {},
   "outputs": [],
   "source": [
    "# main() 함수 안의 세부 동작 중 FunnyDice클래스 \n",
    "from random import randrange\n",
    "\n",
    "class FunnyDice:\n",
    "    def __init__(self, n = 6):\n",
    "        self.n = int(n)\n",
    "        self.numbers = list(range(1, n + 1))\n",
    "        self.index = randrange(0, self.n)\n",
    "        self.val = self.numbers[self.index]\n",
    "        \n",
    "    def throw(self):\n",
    "        self.index = randrange(0, self.n)\n",
    "        self.val = self.numbers[self.index]\n",
    "        \n",
    "    def getval(self):\n",
    "        return self.val\n",
    "    \n",
    "    def setval(self, val):\n",
    "        if val <= self.n:\n",
    "            self.val = val\n",
    "        else:\n",
    "            msg = \"주사위에 없는 숫자입니다. 주사위는 1 ~ {0}까지 있습니다.\".format(self.n)\n",
    "            raise ValueError(msg)"
   ]
  },
  {
   "cell_type": "markdown",
   "id": "54ae7eb7",
   "metadata": {},
   "source": [
    "1. 생성자 (__init__)"
   ]
  },
  {
   "cell_type": "markdown",
   "id": "adde9467",
   "metadata": {},
   "source": [
    "> 파라미터\n",
    ">> 매개 변수 n을 디폴트 값 6으로 설정 후, int로 형 변환을 했습니다."
   ]
  },
  {
   "cell_type": "markdown",
   "id": "63dc74fd",
   "metadata": {},
   "source": [
    "> 인스턴스 변수\n",
    ">> * numbers, index, val 변수 추가\n",
    ">> * self.numbers: 주사위 눈들, range()를 이용해서 1 ~ n+1 리스트를 생성하였음.\n",
    ">> * self.index: 주사위를 던지기 전 눈의 수를 위해 추가하였음(numbers 리스트의 인덱스), randrange()를 이용하여 랜덤하게 나오게 셋팅\n",
    ">> * self.val: 주사위의 눈"
   ]
  },
  {
   "cell_type": "markdown",
   "id": "c76dd09d",
   "metadata": {},
   "source": [
    "2. throw and getval"
   ]
  },
  {
   "cell_type": "markdown",
   "id": "54e7a6c9",
   "metadata": {},
   "source": [
    "> throw\n",
    ">> 랜덤으로 주사위 눈이 나오게 설정"
   ]
  },
  {
   "cell_type": "markdown",
   "id": "fa0580fa",
   "metadata": {},
   "source": [
    "> getval\n",
    ">> 주사위 눈 변수 val을 반환"
   ]
  },
  {
   "cell_type": "markdown",
   "id": "cd26a561",
   "metadata": {},
   "source": [
    "3. setval"
   ]
  },
  {
   "cell_type": "markdown",
   "id": "e0742858",
   "metadata": {},
   "source": [
    ": raise를 이용해 강제 에러를 발생시켜 범위 밖의 숫자를 세팅하지 못하게 하는 로직을 조건물을 이용하여 구현"
   ]
  },
  {
   "cell_type": "code",
   "execution_count": 3,
   "id": "ad3f1fb6",
   "metadata": {},
   "outputs": [],
   "source": [
    "# get_inputs() 함수 생성\n",
    "def get_inputs():\n",
    "    n = int(input(\"주사위 면의 개수를 입력하시오(양의 정수): \"))\n",
    "    return n"
   ]
  },
  {
   "cell_type": "code",
   "execution_count": 4,
   "id": "e66318ba",
   "metadata": {},
   "outputs": [
    {
     "name": "stdout",
     "output_type": "stream",
     "text": [
      "주사위 면의 개수를 입력하세요: 100\n",
      "행운의 숫자는? 42\n"
     ]
    }
   ],
   "source": [
    "# 최종 코드 구현\n",
    "from random import randrange\n",
    "\n",
    "class FunnyDice:\n",
    "    def __init__(self, n=6):\n",
    "        self.n = n\n",
    "        self.options = list(range(1, n+1))\n",
    "        self.index = randrange(0, self.n)\n",
    "        self.val = self.options[self.index]\n",
    "    \n",
    "    def throw(self):\n",
    "        self.index = randrange(0, self.n)\n",
    "        self.val = self.options[self.index]\n",
    "    \n",
    "    def getval(self):\n",
    "        return self.val\n",
    "    \n",
    "    def setval(self, val):\n",
    "        if val <= self.n:\n",
    "            self.val = val\n",
    "        else:\n",
    "            msg = \"주사위에 없는 숫자입니다. 주사위는 1 ~ {0}까지 있습니다. \".format(self.n)\n",
    "            raise ValueError(msg)\n",
    "\n",
    "def get_inputs():\n",
    "    n = int(input(\"주사위 면의 개수를 입력하세요: \"))\n",
    "    return n\n",
    "\n",
    "def main():\n",
    "    n = get_inputs()\n",
    "    mydice = FunnyDice(n)\n",
    "    mydice.throw()\n",
    "    print(\"행운의 숫자는? {0}\".format(mydice.getval()))\n",
    "\n",
    "if __name__ == '__main__':\n",
    "    main()"
   ]
  }
 ],
 "metadata": {
  "kernelspec": {
   "display_name": "Python 3 (ipykernel)",
   "language": "python",
   "name": "python3"
  },
  "language_info": {
   "codemirror_mode": {
    "name": "ipython",
    "version": 3
   },
   "file_extension": ".py",
   "mimetype": "text/x-python",
   "name": "python",
   "nbconvert_exporter": "python",
   "pygments_lexer": "ipython3",
   "version": "3.9.7"
  }
 },
 "nbformat": 4,
 "nbformat_minor": 5
}
